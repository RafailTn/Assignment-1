{
 "cells": [
  {
   "cell_type": "code",
   "execution_count": 12,
   "metadata": {},
   "outputs": [],
   "source": [
    "import pandas as pd\n",
    "import numpy as np\n",
    "import matplotlib.pyplot as plt\n",
    "from sklearn.model_selection import train_test_split, GridSearchCV, cross_val_score, KFold\n",
    "from sklearn.preprocessing import StandardScaler\n",
    "from sklearn.linear_model import Lasso, ElasticNet, BayesianRidge\n",
    "from sklearn.svm import SVR\n",
    "from sklearn.metrics import mean_squared_error, mean_absolute_error, r2_score\n",
    "from sklearn.feature_selection import SelectKBest\n",
    "from sklearn.pipeline import Pipeline\n",
    "from pathlib import Path\n",
    "import joblib\n",
    "import sys\n",
    "import os\n",
    "# I had an issue with importing functions from the src directory, so I used chatGPT to get the line below\n",
    "sys.path.append(os.path.abspath(os.path.join(os.getcwd(), '..', 'src')))\n",
    "import functions"
   ]
  },
  {
   "cell_type": "code",
   "execution_count": 13,
   "metadata": {},
   "outputs": [],
   "source": [
    "input_path = Path.cwd()\n",
    "root = input_path.parent\n",
    "data_path = root / \"data\" / \"development_final_data.csv\"\n",
    "train_df = pd.read_csv(data_path, header=0)\n",
    "x = train_df.drop(columns=['BMI'])\n",
    "y = train_df['BMI']\n",
    "x_train, x_test, y_train, y_test = train_test_split(x, y, test_size=0.1, random_state=42)\n"
   ]
  },
  {
   "cell_type": "code",
   "execution_count": null,
   "metadata": {},
   "outputs": [
    {
     "name": "stdout",
     "output_type": "stream",
     "text": [
      "MSE: 9.352660460676493\n",
      "MAE: 2.4906351578827577\n",
      "R2: 0.04225909773064784\n",
      "[25.09206813 25.08976305 25.08493497 25.62562572 24.60877506 25.56461833\n",
      " 25.13836911 25.39667963 24.39479904 25.27622784 25.44340145 24.46922925\n",
      " 24.50057243 24.31288596 25.10701473 25.07894693 24.58116423 25.07019001\n",
      " 25.07019001 26.54431363 25.24110871 25.40336276 25.3916327  24.53119328\n",
      " 25.69830177 25.05066332 24.77523892 25.20966124 25.60959234 24.38446027\n",
      " 25.3930582  24.85858479 25.07309233 25.0855916  25.07019001 24.65745875\n",
      " 25.10009647 25.48355085 24.57066834 25.4548882  24.58509956 25.08817177\n",
      " 25.17505416 24.33461829 25.35103903 25.09178026 24.30794218 24.47848037\n",
      " 24.62732271]\n",
      "MSE: 9.426759044357853\n",
      "MAE: 2.2718814067520285\n",
      "R2: 0.034671177192930225\n",
      "[25.5063042  25.58381224 25.92711858 27.37319588 24.84667569 25.75645085\n",
      " 25.87404325 24.72982836 23.25057918 26.85870535 24.80966813 24.51362656\n",
      " 22.46527269 21.97561791 25.5696788  25.82690005 25.03112161 25.20711461\n",
      " 25.61642941 26.76843843 23.99915465 24.94684381 26.52455669 24.20831355\n",
      " 27.23264991 24.45445823 24.36393565 24.0373327  22.90564056 23.21887101\n",
      " 25.12656523 25.3800587  25.68750173 25.78267765 25.97394369 25.42210995\n",
      " 25.89240962 25.20587664 26.41835181 24.41379981 26.46946902 25.60017404\n",
      " 24.58929372 24.70308641 25.91249032 24.6045099  23.6671348  24.83276807\n",
      " 22.79189599]\n",
      "MSE: 8.370104865162105\n",
      "MAE: 2.0278463962869497\n",
      "R2: 0.14287578177839577\n",
      "[25.73865398 25.87744549 25.83718486 24.95790988 24.68655349 25.47097553\n",
      " 25.40004316 24.48878019 22.64905833 25.23716698 23.78261891 23.85431043\n",
      " 21.88029249 20.98318053 25.75101231 25.59285876 24.37304347 25.72137196\n",
      " 25.90870532 23.9699562  23.8036845  23.85919319 26.31439221 23.92280098\n",
      " 25.64453521 24.64986314 24.57944655 24.42488505 23.92303572 22.67508353\n",
      " 23.92820261 24.18700563 25.71434598 25.60923337 25.59209606 25.40681348\n",
      " 25.65831816 24.00305871 24.06212834 23.92623462 25.36709023 25.80669234\n",
      " 24.13807784 25.13976752 23.94891739 23.99352833 23.25528657 23.65684971\n",
      " 21.46768398]\n"
     ]
    }
   ],
   "source": [
    "for model in [ElasticNet(), BayesianRidge(), SVR()]:\n",
    "    print(f\"Model: {model.__class__.__name__}\")\n",
    "    # Create a pipeline for each baseline model\n",
    "    pipeline = functions.create_pipeline(model)\n",
    "    preds, trained_pipeline = functions.train_model_and_predict(x_train, y_train, x_test, pipeline, filename=f\"{model.__class__.__name__}.pkl\", save=True)"
   ]
  }
 ],
 "metadata": {
  "kernelspec": {
   "display_name": "base",
   "language": "python",
   "name": "python3"
  },
  "language_info": {
   "codemirror_mode": {
    "name": "ipython",
    "version": 3
   },
   "file_extension": ".py",
   "mimetype": "text/x-python",
   "name": "python",
   "nbconvert_exporter": "python",
   "pygments_lexer": "ipython3",
   "version": "3.12.2"
  }
 },
 "nbformat": 4,
 "nbformat_minor": 2
}
